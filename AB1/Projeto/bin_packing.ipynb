{
  "cells": [
    {
      "cell_type": "markdown",
      "metadata": {
        "id": "NrgGFcENi2HP"
      },
      "source": [
        "# Problema Bin Packing - Combinatória\n",
        "O problema de bin packing (ou \"empacotamento em caixas\") é um problema clássico de otimização combinatória. O objetivo é organizar um conjunto de itens de diferentes tamanhos em um número mínimo de caixas (ou \"bins\") de capacidade fixa, de forma que a soma dos tamanhos dos itens em cada caixa não exceda a capacidade da caixa.\n",
        "\n",
        "Alunos:\n",
        "- Ruan Tenório de Melo\n",
        "- Victor Hugo Silva Ângelo\n",
        "- Vinícius da Costa  Netizke"
      ]
    },
    {
      "cell_type": "markdown",
      "metadata": {
        "id": "jGQXr8v-lpej"
      },
      "source": [
        "## Abordagem Utilizada\n"
      ]
    },
    {
      "cell_type": "markdown",
      "metadata": {
        "id": "PX2iCwNfmEpq"
      },
      "source": [
        "### Representação\n",
        "\n",
        " Representaremos uma potencial solução como uma permutação ordenada dos itens. A ideia é que iremos empacotar os itens de acordo com a ordem especificada pelo cromossomo utilizando a heurística do First Fit.\n",
        "\n",
        " Exemplo de Cromossomo: [3, 0, 4, 1, 2] Representa o empacotamento do item 3, depois o item 0, em seguida o item 4 e por assim em diante.\n"
      ]
    },
    {
      "cell_type": "markdown",
      "metadata": {
        "id": "XSqy3mNomp5l"
      },
      "source": [
        "### Função de Aptidão\n",
        "\n",
        "Utilizaremos o número de bins como o fitness do cromossomo, onde uma menor quantidade de bins indica uma melhor aptidão do cromossomo."
      ]
    },
    {
      "cell_type": "markdown",
      "metadata": {
        "id": "V7BTM3Zansug"
      },
      "source": [
        "### Seleção de Parentes\n",
        "\n",
        "Para a seleção dos pais que terão a oportunidade de realizar a operação de crossover utilizamos a ideia do *tournament selection* onde é sorteado aleatoriamente *k* individuos da população e o individuo mais adaptado é selecionado como um pai."
      ]
    },
    {
      "cell_type": "markdown",
      "metadata": {
        "id": "I31y1w3lnncy"
      },
      "source": [
        "### Cruzamento\n",
        "\n",
        "A operação de cruzamento, *crossover*, foi definida da seguinte forma:\n",
        "\n",
        "1. Definimos dois pontos de corte aleatorios e copiamos essa fatia do ```parent1``` para o filho.\n",
        "2. O restante dos items que o individuo representa virá do ```parent2``` na ordem que eles aparecem no cromossomo.\n",
        "\n",
        "Esta forma de cruzamento não gera individuos \"monstros\" pois não há informação nova, apenas a ordem dos elementos é alterada."
      ]
    },
    {
      "cell_type": "markdown",
      "metadata": {
        "id": "hoiI3pw2nwbT"
      },
      "source": [
        "### Mutação\n",
        "\n",
        "Como a nossa representação do cromossomo é uma permutação dos items que serão armazenados nas *bins*, achamos válido que a mutação altere apenas a ordem dos items representados no nosso cromossomo, então são sorteados dois indices e os valores do cromossomo naqueles indices são trocados."
      ]
    },
    {
      "cell_type": "markdown",
      "metadata": {
        "id": "243o64lPJdz1"
      },
      "source": [
        "### Condição de parada\n",
        "O algoritmo é encerrado quando o número máximo de gerações é atingido, garantido que seja encerrado."
      ]
    },
    {
      "cell_type": "code",
      "execution_count": null,
      "metadata": {
        "id": "gk-T-iMgJdWk"
      },
      "outputs": [],
      "source": []
    },
    {
      "cell_type": "markdown",
      "metadata": {
        "id": "RRRYsPo5mY-N"
      },
      "source": [
        "## Implementação"
      ]
    },
    {
      "cell_type": "code",
      "execution_count": 2,
      "metadata": {
        "id": "ODz-6xDYqfCm"
      },
      "outputs": [
        {
          "ename": "ModuleNotFoundError",
          "evalue": "No module named 'matplotlib'",
          "output_type": "error",
          "traceback": [
            "\u001b[31m---------------------------------------------------------------------------\u001b[39m",
            "\u001b[31mModuleNotFoundError\u001b[39m                       Traceback (most recent call last)",
            "\u001b[36mCell\u001b[39m\u001b[36m \u001b[39m\u001b[32mIn[2]\u001b[39m\u001b[32m, line 4\u001b[39m\n\u001b[32m      2\u001b[39m \u001b[38;5;28;01mimport\u001b[39;00m\u001b[38;5;250m \u001b[39m\u001b[34;01mcopy\u001b[39;00m\n\u001b[32m      3\u001b[39m \u001b[38;5;28;01mfrom\u001b[39;00m\u001b[38;5;250m \u001b[39m\u001b[34;01mstatistics\u001b[39;00m\u001b[38;5;250m \u001b[39m\u001b[38;5;28;01mimport\u001b[39;00m mean\n\u001b[32m----> \u001b[39m\u001b[32m4\u001b[39m \u001b[38;5;28;01mimport\u001b[39;00m\u001b[38;5;250m \u001b[39m\u001b[34;01mmatplotlib\u001b[39;00m\u001b[34;01m.\u001b[39;00m\u001b[34;01mpyplot\u001b[39;00m\u001b[38;5;250m \u001b[39m\u001b[38;5;28;01mas\u001b[39;00m\u001b[38;5;250m \u001b[39m\u001b[34;01mplt\u001b[39;00m\n",
            "\u001b[31mModuleNotFoundError\u001b[39m: No module named 'matplotlib'"
          ]
        }
      ],
      "source": [
        "import random\n",
        "import copy\n",
        "from statistics import mean\n",
        "import matplotlib.pyplot as plt"
      ]
    },
    {
      "cell_type": "code",
      "execution_count": null,
      "metadata": {
        "id": "GzAFEtWLkUB-"
      },
      "outputs": [],
      "source": [
        "\n",
        "def pack_items_first_fit(items, item_order, bin_capacity):\n",
        "    bins = []\n",
        "    bin_loads = {}\n",
        "\n",
        "    for item_index in item_order:\n",
        "        item_size = items[item_index]\n",
        "        placed = False\n",
        "\n",
        "        for bin_idx, current_bin in enumerate(bins):\n",
        "            current_load = bin_loads.get(bin_idx, 0)\n",
        "            if current_load + item_size <= bin_capacity:\n",
        "                current_bin.append(item_index)\n",
        "                bin_loads[bin_idx] = current_load + item_size\n",
        "                placed = True\n",
        "                break\n",
        "\n",
        "        # Se não foi possível colocar em uma bin existente, cria uma.\n",
        "        if not placed:\n",
        "            new_bin_idx = len(bins)\n",
        "            bins.append([item_index])\n",
        "            bin_loads[new_bin_idx] = item_size\n",
        "\n",
        "    return bins, bin_loads\n"
      ]
    },
    {
      "cell_type": "code",
      "execution_count": null,
      "metadata": {
        "id": "zxvi7eFcoY3c"
      },
      "outputs": [],
      "source": [
        "def calculate_fitness(chromosome, items, bin_capacity):\n",
        "    packed_bins, _ = pack_items_first_fit(items, chromosome, bin_capacity)\n",
        "    return len(packed_bins)\n"
      ]
    },
    {
      "cell_type": "code",
      "execution_count": null,
      "metadata": {
        "id": "gSZQwqySobqM"
      },
      "outputs": [],
      "source": [
        "def initialize_population(pop_size, num_items):\n",
        "    population = []\n",
        "    base_permutation = list(range(num_items))\n",
        "\n",
        "    for _ in range(pop_size):\n",
        "        chromosome = random.sample(base_permutation, num_items)\n",
        "        population.append(chromosome)\n",
        "    return population"
      ]
    },
    {
      "cell_type": "code",
      "execution_count": null,
      "metadata": {
        "id": "VlKdSEGYoezc"
      },
      "outputs": [],
      "source": [
        "def tournament_selection(population, fitnesses, k=3):\n",
        "    tournament = random.sample(list(zip(population, fitnesses)), k)\n",
        "    tournament.sort(key=lambda x: x[1])\n",
        "    return tournament[0][0]"
      ]
    },
    {
      "cell_type": "code",
      "execution_count": null,
      "metadata": {
        "id": "UNCL19QxohOO"
      },
      "outputs": [],
      "source": [
        "def order_crossover(parent1, parent2):\n",
        "    size = len(parent1)\n",
        "    child = [-1] * size\n",
        "\n",
        "    start, end = sorted(random.sample(range(size), 2))\n",
        "\n",
        "    child[start:end+1] = parent1[start:end+1]\n",
        "    slice_items = set(parent1[start:end+1])\n",
        "\n",
        "    current_pos = (end + 1) % size\n",
        "    parent2_idx = (end + 1) % size\n",
        "\n",
        "    while child[current_pos] == -1:\n",
        "        item = parent2[parent2_idx]\n",
        "        if item not in slice_items:\n",
        "            child[current_pos] = item\n",
        "            current_pos = (current_pos + 1) % size\n",
        "        parent2_idx = (parent2_idx + 1) % size\n",
        "\n",
        "    return child"
      ]
    },
    {
      "cell_type": "code",
      "execution_count": null,
      "metadata": {
        "id": "Z4kr5BJBojeM"
      },
      "outputs": [],
      "source": [
        "def swap_mutation(chromosome, mutation_rate):\n",
        "    if random.random() < mutation_rate:\n",
        "        idx1, idx2 = random.sample(range(len(chromosome)), 2)\n",
        "        chromosome[idx1], chromosome[idx2] = chromosome[idx2], chromosome[idx1]\n",
        "    return chromosome"
      ]
    },
    {
      "cell_type": "markdown",
      "metadata": {
        "id": "v9dUaZsri0oe"
      },
      "source": []
    },
    {
      "cell_type": "code",
      "execution_count": null,
      "metadata": {
        "id": "Pz_xH6g3ofKj"
      },
      "outputs": [],
      "source": [
        "def genetic_algorithm_bpp(items, bin_capacity, pop_size=100, generations=100,\n",
        "                           crossover_rate=0.8, mutation_rate=0.1, tournament_size=3,\n",
        "                           elitism_count=1):\n",
        "    num_items = len(items)\n",
        "    population = initialize_population(pop_size, num_items)\n",
        "    best_chromosome = None\n",
        "    best_fitness = float('inf')\n",
        "    population_means = []\n",
        "    population_best_fitness = []\n",
        "\n",
        "    print(f\"Starting GA for Bin Packing...\")\n",
        "    print(f\"Items ({num_items}): {items}\")\n",
        "    print(f\"Bin Capacity: {bin_capacity}\")\n",
        "    print(f\"Population Size: {pop_size}, Generations: {generations}\")\n",
        "    print(\"-\" * 30)\n",
        "\n",
        "    for gen in range(generations):\n",
        "        fitnesses = [calculate_fitness(chrom, items, bin_capacity) for chrom in population]\n",
        "\n",
        "        population_means.append(mean(fitnesses))\n",
        "\n",
        "        current_best_idx = min(range(pop_size), key=lambda i: fitnesses[i])\n",
        "        current_best_fitness = fitnesses[current_best_idx]\n",
        "        current_best_chromosome = population[current_best_idx]\n",
        "\n",
        "        population_best_fitness.append(current_best_fitness)\n",
        "\n",
        "        if current_best_fitness < best_fitness:\n",
        "            best_fitness = current_best_fitness\n",
        "            best_chromosome = copy.deepcopy(current_best_chromosome)\n",
        "            print(f\"Generation {gen+1}: New best fitness = {best_fitness}\")\n",
        "\n",
        "        next_population = []\n",
        "\n",
        "        sorted_pop_indices = sorted(range(pop_size), key=lambda i: fitnesses[i])\n",
        "        for i in range(elitism_count):\n",
        "            elite_idx = sorted_pop_indices[i]\n",
        "            next_population.append(copy.deepcopy(population[elite_idx]))\n",
        "\n",
        "        while len(next_population) < pop_size:\n",
        "            # Selection\n",
        "            parent1 = tournament_selection(population, fitnesses, tournament_size)\n",
        "            parent2 = tournament_selection(population, fitnesses, tournament_size)\n",
        "\n",
        "            # Crossover\n",
        "            if random.random() < crossover_rate:\n",
        "                child1 = order_crossover(parent1, parent2)\n",
        "            else:\n",
        "                child1 = ccparent1)\n",
        "\n",
        "            # Mutation\n",
        "            child1 = swap_mutation(child1, mutation_rate)\n",
        "\n",
        "            next_population.append(child1)\n",
        "\n",
        "            if len(next_population) >= pop_size:\n",
        "                break\n",
        "\n",
        "        population = next_population\n",
        "\n",
        "    print(\"-\" * 30)\n",
        "    print(\"GA Finished.\")\n",
        "    print(f\"Best Fitness (Minimum Bins): {best_fitness}\")\n",
        "    print(f\"Best Item Order Found: {best_chromosome}\")\n",
        "    print(\"Corresponding Packing:\")\n",
        "\n",
        "    packed_bins_final, bin_loads_final = pack_items_first_fit(items, best_chromosome, bin_capacity)\n",
        "    for i, bin_items in enumerate(packed_bins_final):\n",
        "        bin_item_sizes = [items[idx] for idx in bin_items]\n",
        "        print(f\"  Bin {i+1} (Load: {bin_loads_final[i]}/{bin_capacity}): Items {bin_items} -> Sizes {bin_item_sizes}\")\n",
        "\n",
        "    return best_chromosome, best_fitness, packed_bins_final, population_means, population_best_fitness"
      ]
    },
    {
      "cell_type": "code",
      "execution_count": null,
      "metadata": {
        "colab": {
          "base_uri": "https://localhost:8080/"
        },
        "id": "HOEU-hfbpBos",
        "outputId": "08a02d44-c81e-43b9-f4bb-0ad6888c0029"
      },
      "outputs": [
        {
          "name": "stdout",
          "output_type": "stream",
          "text": [
            "Starting GA for Bin Packing...\n",
            "Items (266): [57, 30, 8, 98, 94, 71, 28, 69, 14, 64, 51, 68, 23, 67, 89, 16, 41, 5, 52, 87, 39, 3, 48, 74, 23, 34, 56, 37, 24, 98, 59, 27, 43, 98, 61, 66, 58, 98, 3, 3, 93, 98, 64, 7, 10, 39, 90, 4, 67, 85, 55, 79, 62, 7, 26, 84, 51, 14, 79, 15, 48, 6, 88, 93, 54, 42, 97, 28, 68, 93, 55, 2, 96, 2, 97, 32, 29, 67, 60, 6, 78, 99, 24, 50, 84, 8, 97, 68, 19, 92, 96, 5, 78, 97, 97, 100, 30, 78, 10, 41, 1, 56, 96, 4, 99, 75, 54, 76, 70, 62, 62, 4, 66, 60, 15, 1, 5, 13, 95, 59, 54, 4, 54, 58, 56, 91, 60, 25, 70, 6, 53, 13, 53, 51, 35, 68, 71, 94, 88, 57, 19, 77, 67, 22, 53, 33, 70, 71, 29, 28, 66, 42, 100, 91, 65, 4, 67, 77, 73, 18, 7, 5, 9, 18, 61, 88, 34, 8, 60, 98, 27, 65, 56, 89, 11, 45, 12, 58, 96, 98, 23, 57, 9, 94, 71, 63, 84, 30, 8, 98, 94, 71, 28, 69, 14, 64, 51, 68, 23, 67, 89, 16, 41, 5, 52, 87, 39, 3, 4, 30, 8, 98, 94, 71, 28, 69, 14, 64, 51, 68, 23, 67, 89, 16, 41, 5, 52, 87, 39, 3, 4, 30, 8, 98, 94, 71, 28, 69, 14, 64, 51, 68, 23, 67, 89, 16, 41, 5, 52, 87, 39, 3, 4, 68, 55, 73, 74, 34, 65, 33, 59, 67, 78, 3, 72, 43]\n",
            "Bin Capacity: 100\n",
            "Population Size: 100, Generations: 100\n",
            "------------------------------\n",
            "Generation 1: New best fitness = 154\n",
            "------------------------------\n",
            "GA Finished.\n",
            "Best Fitness (Minimum Bins): 154\n",
            "Best Item Order Found: [156, 3, 262, 112, 150, 63, 134, 209, 241, 161, 252, 223, 34, 130, 214, 122, 8, 31, 200, 28, 119, 146, 114, 120, 216, 176, 256, 149, 185, 104, 13, 14, 232, 124, 236, 113, 197, 62, 69, 183, 26, 261, 220, 224, 182, 95, 52, 212, 244, 18, 12, 225, 49, 126, 0, 65, 210, 38, 35, 245, 33, 172, 78, 133, 192, 72, 217, 19, 166, 254, 45, 208, 201, 118, 243, 171, 202, 155, 139, 143, 129, 181, 60, 248, 29, 9, 211, 229, 167, 264, 109, 191, 173, 169, 4, 82, 213, 242, 1, 138, 180, 227, 184, 198, 87, 91, 132, 157, 97, 67, 204, 265, 231, 17, 88, 228, 250, 159, 80, 170, 32, 16, 21, 131, 106, 58, 64, 20, 193, 137, 56, 188, 226, 30, 115, 194, 111, 239, 249, 164, 196, 108, 7, 37, 99, 55, 246, 94, 257, 81, 221, 174, 215, 165, 50, 258, 25, 68, 83, 96, 158, 247, 179, 144, 44, 260, 177, 237, 73, 11, 186, 160, 116, 54, 6, 253, 141, 148, 117, 10, 255, 189, 76, 24, 77, 75, 2, 235, 46, 61, 205, 168, 27, 153, 15, 66, 145, 92, 240, 48, 162, 142, 199, 41, 207, 47, 89, 40, 151, 79, 98, 102, 22, 147, 140, 251, 187, 85, 36, 203, 42, 135, 206, 59, 84, 53, 125, 234, 222, 100, 110, 175, 263, 93, 74, 154, 233, 90, 105, 39, 5, 101, 163, 43, 123, 57, 218, 121, 152, 178, 51, 190, 127, 107, 219, 128, 103, 238, 23, 86, 259, 136, 70, 195, 230, 71]\n",
            "Corresponding Packing:\n",
            "  Bin 1 (Load: 100/100): Items [156, 209, 38] -> Sizes [67, 30, 3]\n",
            "  Bin 2 (Load: 100/100): Items [3, 115, 100] -> Sizes [98, 1, 1]\n",
            "  Bin 3 (Load: 99/100): Items [262, 161, 252, 176] -> Sizes [78, 5, 4, 12]\n",
            "  Bin 4 (Load: 100/100): Items [112, 223, 8, 208] -> Sizes [66, 16, 14, 4]\n",
            "  Bin 5 (Load: 99/100): Items [150, 214, 225] -> Sizes [66, 28, 5]\n",
            "  Bin 6 (Load: 100/100): Items [63, 155, 229] -> Sizes [93, 4, 3]\n",
            "  Bin 7 (Load: 99/100): Items [134, 34, 21] -> Sizes [35, 61, 3]\n",
            "  Bin 8 (Load: 100/100): Items [241, 31, 91] -> Sizes [68, 27, 5]\n",
            "  Bin 9 (Load: 100/100): Items [130, 28, 114, 232] -> Sizes [53, 24, 15, 8]\n",
            "  Bin 10 (Load: 100/100): Items [122, 216, 149, 111] -> Sizes [54, 14, 28, 4]\n",
            "  Bin 11 (Load: 100/100): Items [200, 182, 73] -> Sizes [89, 9, 2]\n",
            "  Bin 12 (Load: 100/100): Items [119, 236, 210, 17] -> Sizes [59, 28, 8, 5]\n",
            "  Bin 13 (Load: 99/100): Items [146, 220, 129] -> Sizes [70, 23, 6]\n",
            "  Bin 14 (Load: 100/100): Items [120, 224, 247] -> Sizes [54, 41, 5]\n",
            "  Bin 15 (Load: 100/100): Items [256, 12, 207] -> Sizes [74, 23, 3]\n",
            "  Bin 16 (Load: 100/100): Items [185, 245, 201, 116] -> Sizes [63, 16, 16, 5]\n",
            "  Bin 17 (Load: 99/100): Items [104] -> Sizes [99]\n",
            "  Bin 18 (Load: 99/100): Items [13, 192, 47] -> Sizes [67, 28, 4]\n",
            "  Bin 19 (Load: 100/100): Items [14, 167, 251] -> Sizes [89, 8, 3]\n",
            "  Bin 20 (Load: 100/100): Items [124, 65, 71] -> Sizes [56, 42, 2]\n",
            "  Bin 21 (Load: 100/100): Items [113, 166, 61] -> Sizes [60, 34, 6]\n",
            "  Bin 22 (Load: 98/100): Items [197, 143, 188] -> Sizes [68, 22, 8]\n",
            "  Bin 23 (Load: 99/100): Items [62, 174] -> Sizes [88, 11]\n",
            "  Bin 24 (Load: 100/100): Items [69, 160] -> Sizes [93, 7]\n",
            "  Bin 25 (Load: 100/100): Items [183, 79] -> Sizes [94, 6]\n",
            "  Bin 26 (Load: 100/100): Items [26, 45, 203] -> Sizes [56, 39, 5]\n",
            "  Bin 27 (Load: 99/100): Items [261, 82, 2] -> Sizes [67, 24, 8]\n",
            "  Bin 28 (Load: 100/100): Items [95] -> Sizes [100]\n",
            "  Bin 29 (Load: 98/100): Items [52, 242, 131] -> Sizes [62, 23, 13]\n",
            "  Bin 30 (Load: 100/100): Items [212, 263, 39] -> Sizes [94, 3, 3]\n",
            "  Bin 31 (Load: 99/100): Items [244, 44] -> Sizes [89, 10]\n",
            "  Bin 32 (Load: 100/100): Items [18, 202, 53] -> Sizes [52, 41, 7]\n",
            "  Bin 33 (Load: 99/100): Items [49, 194] -> Sizes [85, 14]\n",
            "  Bin 34 (Load: 99/100): Items [126, 1, 162] -> Sizes [60, 30, 9]\n",
            "  Bin 35 (Load: 99/100): Items [0, 180, 88] -> Sizes [57, 23, 19]\n",
            "  Bin 36 (Load: 99/100): Items [35, 198, 98] -> Sizes [66, 23, 10]\n",
            "  Bin 37 (Load: 98/100): Items [33] -> Sizes [98]\n",
            "  Bin 38 (Load: 97/100): Items [172, 67, 117] -> Sizes [56, 28, 13]\n",
            "  Bin 39 (Load: 98/100): Items [78, 231, 85] -> Sizes [60, 30, 8]\n",
            "  Bin 40 (Load: 99/100): Items [133, 60] -> Sizes [51, 48]\n",
            "  Bin 41 (Load: 100/100): Items [72, 121] -> Sizes [96, 4]\n",
            "  Bin 42 (Load: 98/100): Items [217, 159, 15] -> Sizes [64, 18, 16]\n",
            "  Bin 43 (Load: 98/100): Items [19, 43, 103] -> Sizes [87, 7, 4]\n",
            "  Bin 44 (Load: 98/100): Items [254, 265] -> Sizes [55, 43]\n",
            "  Bin 45 (Load: 99/100): Items [118, 230] -> Sizes [95, 4]\n",
            "  Bin 46 (Load: 94/100): Items [243, 170] -> Sizes [67, 27]\n",
            "  Bin 47 (Load: 99/100): Items [171, 257] -> Sizes [65, 34]\n",
            "  Bin 48 (Load: 96/100): Items [139, 228] -> Sizes [57, 39]\n",
            "  Bin 49 (Load: 96/100): Items [181, 250] -> Sizes [57, 39]\n",
            "  Bin 50 (Load: 95/100): Items [248, 32] -> Sizes [52, 43]\n",
            "  Bin 51 (Load: 98/100): Items [29] -> Sizes [98]\n",
            "  Bin 52 (Load: 98/100): Items [9, 25] -> Sizes [64, 34]\n",
            "  Bin 53 (Load: 98/100): Items [211] -> Sizes [98]\n",
            "  Bin 54 (Load: 98/100): Items [264, 54] -> Sizes [72, 26]\n",
            "  Bin 55 (Load: 92/100): Items [109, 96] -> Sizes [62, 30]\n",
            "  Bin 56 (Load: 99/100): Items [191, 6] -> Sizes [71, 28]\n",
            "  Bin 57 (Load: 89/100): Items [173] -> Sizes [89]\n",
            "  Bin 58 (Load: 98/100): Items [169] -> Sizes [98]\n",
            "  Bin 59 (Load: 94/100): Items [4] -> Sizes [94]\n",
            "  Bin 60 (Load: 100/100): Items [213, 148] -> Sizes [71, 29]\n",
            "  Bin 61 (Load: 88/100): Items [138] -> Sizes [88]\n",
            "  Bin 62 (Load: 87/100): Items [227] -> Sizes [87]\n",
            "  Bin 63 (Load: 100/100): Items [184, 76] -> Sizes [71, 29]\n",
            "  Bin 64 (Load: 91/100): Items [87, 24] -> Sizes [68, 23]\n",
            "  Bin 65 (Load: 94/100): Items [132, 16] -> Sizes [53, 41]\n",
            "  Bin 66 (Load: 96/100): Items [157, 140] -> Sizes [77, 19]\n",
            "  Bin 67 (Load: 93/100): Items [97, 59] -> Sizes [78, 15]\n",
            "  Bin 68 (Load: 91/100): Items [204, 20] -> Sizes [52, 39]\n",
            "  Bin 69 (Load: 96/100): Items [80, 163] -> Sizes [78, 18]\n",
            "  Bin 70 (Load: 95/100): Items [106, 99] -> Sizes [54, 41]\n",
            "  Bin 71 (Load: 93/100): Items [58, 57] -> Sizes [79, 14]\n",
            "  Bin 72 (Load: 95/100): Items [64, 246] -> Sizes [54, 41]\n",
            "  Bin 73 (Load: 99/100): Items [193, 187] -> Sizes [69, 30]\n",
            "  Bin 74 (Load: 94/100): Items [137] -> Sizes [94]\n",
            "  Bin 75 (Load: 97/100): Items [56, 75, 238] -> Sizes [51, 32, 14]\n",
            "  Bin 76 (Load: 89/100): Items [226, 27] -> Sizes [52, 37]\n",
            "  Bin 77 (Load: 92/100): Items [30, 145] -> Sizes [59, 33]\n",
            "  Bin 78 (Load: 89/100): Items [239, 127] -> Sizes [64, 25]\n",
            "  Bin 79 (Load: 87/100): Items [249] -> Sizes [87]\n",
            "  Bin 80 (Load: 100/100): Items [164, 206] -> Sizes [61, 39]\n",
            "  Bin 81 (Load: 93/100): Items [196, 151] -> Sizes [51, 42]\n",
            "  Bin 82 (Load: 70/100): Items [108] -> Sizes [70]\n",
            "  Bin 83 (Load: 69/100): Items [7] -> Sizes [69]\n",
            "  Bin 84 (Load: 98/100): Items [37] -> Sizes [98]\n",
            "  Bin 85 (Load: 84/100): Items [55] -> Sizes [84]\n",
            "  Bin 86 (Load: 97/100): Items [94] -> Sizes [97]\n",
            "  Bin 87 (Load: 99/100): Items [81] -> Sizes [99]\n",
            "  Bin 88 (Load: 100/100): Items [221, 259] -> Sizes [67, 33]\n",
            "  Bin 89 (Load: 69/100): Items [215] -> Sizes [69]\n",
            "  Bin 90 (Load: 88/100): Items [165] -> Sizes [88]\n",
            "  Bin 91 (Load: 100/100): Items [50, 175] -> Sizes [55, 45]\n",
            "  Bin 92 (Load: 65/100): Items [258] -> Sizes [65]\n",
            "  Bin 93 (Load: 68/100): Items [68] -> Sizes [68]\n",
            "  Bin 94 (Load: 98/100): Items [83, 22] -> Sizes [50, 48]\n",
            "  Bin 95 (Load: 73/100): Items [158] -> Sizes [73]\n",
            "  Bin 96 (Load: 98/100): Items [179] -> Sizes [98]\n",
            "  Bin 97 (Load: 53/100): Items [144] -> Sizes [53]\n",
            "  Bin 98 (Load: 59/100): Items [260] -> Sizes [59]\n",
            "  Bin 99 (Load: 58/100): Items [177] -> Sizes [58]\n",
            "  Bin 100 (Load: 69/100): Items [237] -> Sizes [69]\n",
            "  Bin 101 (Load: 68/100): Items [11] -> Sizes [68]\n",
            "  Bin 102 (Load: 84/100): Items [186] -> Sizes [84]\n",
            "  Bin 103 (Load: 68/100): Items [253] -> Sizes [68]\n",
            "  Bin 104 (Load: 77/100): Items [141] -> Sizes [77]\n",
            "  Bin 105 (Load: 51/100): Items [10] -> Sizes [51]\n",
            "  Bin 106 (Load: 73/100): Items [255] -> Sizes [73]\n",
            "  Bin 107 (Load: 98/100): Items [189] -> Sizes [98]\n",
            "  Bin 108 (Load: 67/100): Items [77] -> Sizes [67]\n",
            "  Bin 109 (Load: 71/100): Items [235] -> Sizes [71]\n",
            "  Bin 110 (Load: 90/100): Items [46] -> Sizes [90]\n",
            "  Bin 111 (Load: 87/100): Items [205] -> Sizes [87]\n",
            "  Bin 112 (Load: 60/100): Items [168] -> Sizes [60]\n",
            "  Bin 113 (Load: 91/100): Items [153] -> Sizes [91]\n",
            "  Bin 114 (Load: 97/100): Items [66] -> Sizes [97]\n",
            "  Bin 115 (Load: 78/100): Items [92] -> Sizes [78]\n",
            "  Bin 116 (Load: 51/100): Items [240] -> Sizes [51]\n",
            "  Bin 117 (Load: 67/100): Items [48] -> Sizes [67]\n",
            "  Bin 118 (Load: 67/100): Items [142] -> Sizes [67]\n",
            "  Bin 119 (Load: 67/100): Items [199] -> Sizes [67]\n",
            "  Bin 120 (Load: 98/100): Items [41] -> Sizes [98]\n",
            "  Bin 121 (Load: 92/100): Items [89] -> Sizes [92]\n",
            "  Bin 122 (Load: 93/100): Items [40] -> Sizes [93]\n",
            "  Bin 123 (Load: 96/100): Items [102] -> Sizes [96]\n",
            "  Bin 124 (Load: 71/100): Items [147] -> Sizes [71]\n",
            "  Bin 125 (Load: 58/100): Items [36] -> Sizes [58]\n",
            "  Bin 126 (Load: 64/100): Items [42] -> Sizes [64]\n",
            "  Bin 127 (Load: 68/100): Items [135] -> Sizes [68]\n",
            "  Bin 128 (Load: 84/100): Items [84] -> Sizes [84]\n",
            "  Bin 129 (Load: 91/100): Items [125] -> Sizes [91]\n",
            "  Bin 130 (Load: 94/100): Items [234] -> Sizes [94]\n",
            "  Bin 131 (Load: 89/100): Items [222] -> Sizes [89]\n",
            "  Bin 132 (Load: 62/100): Items [110] -> Sizes [62]\n",
            "  Bin 133 (Load: 97/100): Items [93] -> Sizes [97]\n",
            "  Bin 134 (Load: 97/100): Items [74] -> Sizes [97]\n",
            "  Bin 135 (Load: 65/100): Items [154] -> Sizes [65]\n",
            "  Bin 136 (Load: 98/100): Items [233] -> Sizes [98]\n",
            "  Bin 137 (Load: 96/100): Items [90] -> Sizes [96]\n",
            "  Bin 138 (Load: 75/100): Items [105] -> Sizes [75]\n",
            "  Bin 139 (Load: 71/100): Items [5] -> Sizes [71]\n",
            "  Bin 140 (Load: 56/100): Items [101] -> Sizes [56]\n",
            "  Bin 141 (Load: 58/100): Items [123] -> Sizes [58]\n",
            "  Bin 142 (Load: 51/100): Items [218] -> Sizes [51]\n",
            "  Bin 143 (Load: 100/100): Items [152] -> Sizes [100]\n",
            "  Bin 144 (Load: 96/100): Items [178] -> Sizes [96]\n",
            "  Bin 145 (Load: 79/100): Items [51] -> Sizes [79]\n",
            "  Bin 146 (Load: 94/100): Items [190] -> Sizes [94]\n",
            "  Bin 147 (Load: 76/100): Items [107] -> Sizes [76]\n",
            "  Bin 148 (Load: 68/100): Items [219] -> Sizes [68]\n",
            "  Bin 149 (Load: 70/100): Items [128] -> Sizes [70]\n",
            "  Bin 150 (Load: 74/100): Items [23] -> Sizes [74]\n",
            "  Bin 151 (Load: 97/100): Items [86] -> Sizes [97]\n",
            "  Bin 152 (Load: 71/100): Items [136] -> Sizes [71]\n",
            "  Bin 153 (Load: 55/100): Items [70] -> Sizes [55]\n",
            "  Bin 154 (Load: 64/100): Items [195] -> Sizes [64]\n"
          ]
        }
      ],
      "source": [
        "# items_to_pack = [4, 8, 1, 4, 2, 1, 5, 6, 3, 7]\n",
        "    # bin_capacity_val = 10\n",
        "\n",
        "items_to_pack = [57,30,8,98,94,71,28,69,14,64,51,68,23,67,89,16,41,5,52,87,39,3,48,74,23,34,56,37,24,98,59,27,43,98,61,66,58,98,3,3,93,98,64,7,10,39,90,4,67,85,55,79,62,7,26,84,51,14,79,15,48,6,88,93,54,42,97,28,68,93,55,2,96,2,97,32,29,67,60,6,78,99,24,50,84,8,97,68,19,92,96,5,78,97,97,100,30,78,10,41,1,56,96,4,99,75,54,76,70,62,62,4,66,60,15,1,5,13,95,59,54,4,54,58,56,91,60,25,70,6,53,13,53,51,35,68,71,94,88,57,19,77,67,22,53,33,70,71,29,28,66,42,100,91,65,4,67,77,73,18,7,5,9,18,61,88,34,8,60,98,27,65,56,89,11,45,12,58,96,98,23,57,9,94,71,63,84,30,8,98,94,71,28,69,14,64,51,68,23,67,89,16,41,5,52,87,39,3,4,30,8,98,94,71,28,69,14,64,51,68,23,67,89,16,41,5,52,87,39,3,4,30,8,98,94,71,28,69,14,64,51,68,23,67,89,16,41,5,52,87,39,3,4,68,55,73,74,34,65,33,59,67,78,3,72,43]\n",
        "bin_capacity_val = 100\n",
        "\n",
        "# items_to_pack = [5, 7, 5, 2, 4, 2, 5, 1, 6]\n",
        "# bin_capacity_val = 10\n",
        "\n",
        "POP_SIZE = 100\n",
        "GENERATIONS = 100\n",
        "CROSSOVER_RATE = 0.85\n",
        "MUTATION_RATE = 0.50\n",
        "TOURNAMENT_SIZE = 2\n",
        "ELITISM_COUNT = 1\n",
        "\n",
        "best_order, min_bins, final_packing, population_means, population_best_fitness = genetic_algorithm_bpp(\n",
        "    items_to_pack,\n",
        "    bin_capacity_val,\n",
        "    pop_size=POP_SIZE,\n",
        "    generations=GENERATIONS,\n",
        "    crossover_rate=CROSSOVER_RATE,\n",
        "    mutation_rate=MUTATION_RATE,\n",
        "    tournament_size=TOURNAMENT_SIZE,\n",
        "    elitism_count=ELITISM_COUNT\n",
        ")"
      ]
    },
    {
      "cell_type": "code",
      "execution_count": null,
      "metadata": {
        "colab": {
          "base_uri": "https://localhost:8080/",
          "height": 564
        },
        "id": "3NfFnsVkpNmx",
        "outputId": "d5940e91-7430-4a6d-817a-0e7b5f74f4ea"
      },
      "outputs": [
        {
          "data": {
            "image/png": "[encoded data removed]",
            "text/plain": [
              "<Figure size 1000x600 with 1 Axes>"
            ]
          },
          "metadata": {},
          "output_type": "display_data"
        }
      ],
      "source": [
        "\n",
        "plt.figure(figsize=(10, 6))\n",
        "plt.plot(range(1, GENERATIONS + 1), population_means, label='Mean Fitness')\n",
        "plt.plot(range(1, GENERATIONS + 1), population_best_fitness, label='Best Fitness')\n",
        "\n",
        "plt.xlabel('Generation')\n",
        "plt.ylabel('Fitness')\n",
        "plt.title('Mean and Best Fitness Over Generations')\n",
        "\n",
        "plt.legend()\n",
        "\n",
        "plt.grid(True)\n",
        "plt.show()\n"
      ]
    }
  ],
  "metadata": {
    "colab": {
      "provenance": []
    },
    "kernelspec": {
      "display_name": "Python 3",
      "name": "python3"
    },
    "language_info": {
      "codemirror_mode": {
        "name": "ipython",
        "version": 3
      },
      "file_extension": ".py",
      "mimetype": "text/x-python",
      "name": "python",
      "nbconvert_exporter": "python",
      "pygments_lexer": "ipython3",
      "version": "3.13.3"
    }
  },
  "nbformat": 4,
  "nbformat_minor": 0
}
