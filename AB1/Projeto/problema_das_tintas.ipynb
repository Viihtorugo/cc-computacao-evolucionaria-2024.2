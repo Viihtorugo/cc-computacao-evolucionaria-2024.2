{
  "cells": [
    {
      "cell_type": "markdown",
      "source": [
        "Alunos:\n",
        "- Ruan Tenório de Melo\n",
        "- Victor Hugo Silva Ângelo\n",
        "- Vinícius da Costa  Netizke"
      ],
      "metadata": {
        "id": "T8Ge76CExnSp"
      }
    },
    {
      "cell_type": "markdown",
      "metadata": {
        "id": "M7rQwYwvNE-0"
      },
      "source": [
        "## Problema das Tintas\n",
        "---\n"
      ]
    },
    {
      "cell_type": "markdown",
      "source": [
        "Uma empresa de tintas produz 2 tipos de tinta: a de secagem rápida (SR) e a de\n",
        "secagem normal (SN). Ambas usam os mesmos componente, variando apenas a\n",
        "proporção. Os componentes são: componente de secagem (SEC) e o componente\n",
        "de cor (COR). A empresa tem a disposição para a compra duas misturas para\n",
        "compor as tintas:\n",
        "\n",
        "- Solução A (SolA) com 30% de SEC e 70% de COR a R$ 1,5 o litro.\n",
        "\n",
        "- Solução B (Solb) com 60% de SEC e 40% de COR a R$ 1,0 o litro.\n",
        "\n",
        "Além disso, a empresa tem a disposição também:\n",
        "\n",
        "- Comp. SEC a R$ 4,0 o litro\n",
        "\n",
        "- Comp. COR a R$ 6,0 o litro\n",
        "\n",
        "Sabendo que para compor SR temos que ter no mínimo 25% de SEC e no mínimo\n",
        "50% de COR. Já para SN temos que ter no mínimo de 20% de SEC e 50% de COR.\n",
        "Qual a quantidade de produtos (SolA, SolB, SEC, COR) a serem comprados para se\n",
        "produzir 1000 litro de SR e 250 litros de SN com **menor custo**?\n"
      ],
      "metadata": {
        "id": "EeSTdg8XxY9X"
      }
    },
    {
      "cell_type": "markdown",
      "source": [
        "## Explicação\n",
        "\n",
        "\n",
        "---\n",
        "\n"
      ],
      "metadata": {
        "id": "s50ga91Vxtnr"
      }
    },
    {
      "cell_type": "markdown",
      "source": [
        "### Cromossomo\n",
        "---\n",
        "\n",
        "O cromossomo será um array com as quantidades de cada componente em litros.\n",
        "\n",
        "`[Quantidade de solA, Quantidade de solB, Quantidade de sec, Quantidade de cor]`"
      ],
      "metadata": {
        "id": "1GuqeeoxxyU1"
      }
    },
    {
      "cell_type": "markdown",
      "source": [
        "### Fitness\n",
        "\n",
        "\n",
        "\n",
        "---\n",
        "\n",
        "\n",
        "Para o fitness é preciso pegar as restrições passadas no problema:\n",
        "\n",
        "Restrições para **SR**:\n",
        "\n",
        "- Restrição para SEC: 0.3 * solA_SR + 0.6 * solB_SR + sec_SR <= 25% * 1000\n",
        "- Restrição para COR: 0.7 * solA_SR + 0.4 * solB_SR + cor_SR <= 50% * 1000\n",
        "\n",
        "Restrições para **SN**:\n",
        "\n",
        "- Restrição para SEC: 0.3 * solA_SN + 0.6 * solB_SN + sec_SN <= 20% * 250\n",
        "- Restrição para COR: 0.7 * solA_SN + 0.4 * solB_SN + cor_SN <= 50% * 250\n",
        "\n",
        "Veja que nosso cromossomo tem apenas solA, solB, sec e cor. Logo, pode-se dizer que:\n",
        "\n",
        "- solA = solA_SR + solA_SN\n",
        "- solB = solB_SR + solB_SN\n",
        "- sec  = sec_SR  +  sec_SN\n",
        "- cor  = cor_SR  +  cor_SN\n",
        "\n",
        "Então, tem-se as novas restrições:\n",
        "\n",
        "- Restrição para SEC: 0.3 * (solA_SR + solA_SN) + 0.6 * (solB_SR + solB_SN) + (sec_SR + sec_SN) <= 25% * 1000 + 20% * 250\n",
        "- Restrição para COR: 0.7 * (solA_SR + solA_SN) + 0.4 * (solB_SR + solB_SN) + (sec_SR + sec_SN) <= 50% * 1000 + 50% * 250\n",
        "\n",
        "Veja que esses são as porcentagens minímas para produzir a quantidade. Porém, a questão pede para produzir 1000 litros de SR e 250 litros de SN, logo é preciso de uma restrição para total de litros:\n",
        "\n",
        "- solA + solB + sec + cor < 1250\n",
        "\n",
        "Veja que a questão pede para produzir a 1000 litros de SR e 250 litros de SN, porém, caso ultrapasse é o custo mínimo é calculado por:\n",
        "\n",
        "- solA * 1.5 + solB * 1.0 + sec * 4.0 + cor * 6.0\n",
        "\n",
        "Outro ponto importante é que o cromossomo não pode ter valores negativos, então as restrições são:\n",
        "\n",
        "- solA < 0\n",
        "- solB < 0\n",
        "- sec  < 0\n",
        "- cor  < 0\n",
        "\n",
        "Para cada restrição existe é somado na variável de penalidade um valor de `99999`.\n",
        "\n",
        "Com isso, o calculado do fitness é `solA * 1.5 + solB * 1.0 + sec * 4.0 + cor * 6.0 + penalty`"
      ],
      "metadata": {
        "id": "OviDrdmmBzkw"
      }
    },
    {
      "cell_type": "markdown",
      "source": [
        "### População\n",
        "\n",
        "---\n",
        "\n",
        "A população inicial está sendo criada na linha:\n",
        "\n",
        "`population = [np.random.uniform(1, 10000, 4) for _ in range(pop_size)]`\n",
        "\n",
        "Para modificar basta passar o tamanho diferente na função `genetic_algorithm` no parametro `pop_size` e o padrão é de 50 cromossomos."
      ],
      "metadata": {
        "id": "HGtIQQDOzmWD"
      }
    },
    {
      "cell_type": "markdown",
      "source": [
        "### Crossover\n",
        "---\n",
        "\n",
        "A ideia do cruzamento é utilizar a aritmética nos parentes, no caso é a soma das partes dos parentes através de um `alpha` (padrão 0.5). A função gera 2 filhos.\n",
        "\n",
        "**Aritmética**\n",
        "\n",
        "- filho1 = (1 - alpha) * parente1 + alpha * parente2\n",
        "\n",
        "- filho2 = alpha * parente1 + (1 - alpha) * parente2\n",
        "\n",
        "Além disso, existe um taxa para acontecer os cruzamentos (parametro `rate`) e o padrão é 80%.\n",
        "\n",
        "Importante mecionar que esse tipo de cruzamento ele tem um limite máximo e limite mínimo, então pode cair em casos de respostas locais, logo é necessário  uma mutação."
      ],
      "metadata": {
        "id": "RoJ9o6n5yvo-"
      }
    },
    {
      "cell_type": "markdown",
      "source": [
        "### Mutação\n",
        "\n",
        "\n",
        "---\n",
        "\n",
        "Na mutação é sorteado um valor para fazer quantas multações [1, 4], depois escolhe mais de uma das 4 variáveis para ser aplicado um valor aleatorio nela para tenta sair da resposta local.\n",
        "\n",
        "- Pegando o index aleatoriamente: `index = random.randint(0, 3)`\n",
        "\n",
        "- Criando a taxa da mutação: `mutation = random.uniform(-50, 50)`\n",
        "\n",
        "- Aplicando na solução a taxa: `solution[index] = solution[index] + mutation`\n",
        "\n",
        "Além disso, existe um taxa para acontecer as mutações (parametro `rate`) e o padrão é 80%. Durante os experimentos a configuração que performou melhor foi a que teve mais mutações."
      ],
      "metadata": {
        "id": "BC0j64ksyXNs"
      }
    },
    {
      "cell_type": "markdown",
      "source": [
        "### Seleção e substituição\n",
        "\n",
        "\n",
        "---\n",
        "\n",
        "Essa etapa está no `genetic_algorithm`, no caso é escolhido os 10 melhores da população e o resto é substituito pela selação de torneio para o cruzamento e as mutações. Primeiro é ordenado a população em relação ao fitness. Após isso,\n",
        "\n",
        "Elitismo (variável `el` define o limite): `new_population = population[:el]`\n",
        "\n",
        "Escolhendo os individuos para substituir:  `parent1, parent2 = random.sample(population[:rand], 2)`\n",
        "\n",
        "Adicionando os valores: `new_population.append(mutate(child1, rate_mut))`\n",
        "\n",
        "Substituindo os valores: `population = new_population`\n"
      ],
      "metadata": {
        "id": "z9GvayOF6k2d"
      }
    },
    {
      "cell_type": "markdown",
      "metadata": {
        "id": "qZVpOWvcNuqu"
      },
      "source": [
        "## Implementação\n",
        "\n",
        "\n",
        "---\n",
        "\n"
      ]
    },
    {
      "cell_type": "code",
      "execution_count": null,
      "metadata": {
        "id": "2yOoqpBYM8of"
      },
      "outputs": [],
      "source": [
        "import random\n",
        "import numpy as np\n",
        "import matplotlib.pyplot as plt"
      ]
    },
    {
      "cell_type": "code",
      "source": [
        "def plot_graph(y1, y2, gen):\n",
        "  plt.figure(figsize=(12, 8))\n",
        "\n",
        "  plt.subplot(1, 2, 1)\n",
        "  plt.plot(gen, y1, color=\"b\")\n",
        "  plt.title(\"Custo mínimo\")\n",
        "  plt.xlabel(\"Geração\")\n",
        "  plt.ylabel(\"Custo\")\n",
        "\n",
        "  plt.subplot(1, 2, 2)\n",
        "  plt.plot(gen, y2, color=\"r\")\n",
        "  plt.title(\"Média dos custo\")\n",
        "  plt.xlabel(\"Geração\")\n",
        "  plt.ylabel(\"Custo\")\n",
        "\n",
        "  plt.tight_layout()\n",
        "  plt.show()"
      ],
      "metadata": {
        "id": "dyUo-0fKyWZo"
      },
      "execution_count": null,
      "outputs": []
    },
    {
      "cell_type": "code",
      "source": [
        "def create_ink(solution):\n",
        "  solA, solB, sec, cor = solution\n",
        "\n",
        "  total_sec = 0.3 * solA + 0.6 * solB + sec\n",
        "  total_cor = 0.7 * solA + 0.4 * solB + cor\n",
        "\n",
        "  return sum(solution), total_sec, total_cor"
      ],
      "metadata": {
        "id": "l_n8G5ZZglcH"
      },
      "execution_count": null,
      "outputs": []
    },
    {
      "cell_type": "code",
      "execution_count": null,
      "metadata": {
        "id": "J_uOvnNpNrrX"
      },
      "outputs": [],
      "source": [
        "def fitness(solution):\n",
        "\n",
        "    penalty = 0\n",
        "\n",
        "    for s in solution:\n",
        "      if s < 0:\n",
        "        penalty += 9999\n",
        "\n",
        "    sum_litros, total_sec, total_cor = create_ink(solution)\n",
        "\n",
        "    if (int(sum_litros) < 1250):\n",
        "      penalty += 9999\n",
        "\n",
        "    if (int(total_sec) < 300):\n",
        "        penalty += 9999\n",
        "\n",
        "    if (int(total_cor) < 625):\n",
        "        penalty += 9999\n",
        "\n",
        "\n",
        "\n",
        "    solA, solB, sec, cor = solution\n",
        "\n",
        "    return solA * 1.5 + solB * 1.0 + sec * 4.0 + cor * 6.0 + penalty"
      ]
    },
    {
      "cell_type": "code",
      "execution_count": null,
      "metadata": {
        "id": "3knVkbxKNmyY"
      },
      "outputs": [],
      "source": [
        "def mutate(solution, rate=0.8):\n",
        "  if random.random() < rate:\n",
        "\n",
        "    n = random.randint(1, 4)\n",
        "\n",
        "    for i in range(n):\n",
        "      index = random.randint(0, 3)\n",
        "      mutation = random.uniform(-50, 50)\n",
        "      solution[index] = solution[index] + mutation\n",
        "\n",
        "  return solution"
      ]
    },
    {
      "cell_type": "code",
      "execution_count": null,
      "metadata": {
        "id": "L98CoDyEPlqu"
      },
      "outputs": [],
      "source": [
        "def arithmetic_crossover(parent1, parent2, alpha=0.5, rate=0.8):\n",
        "  if random.random() < rate:\n",
        "    child1 = alpha * parent1 + (1 - alpha) * parent2\n",
        "    child2 = (1 - alpha) * parent1 + alpha * parent2\n",
        "    return child1, child2\n",
        "  else:\n",
        "    return parent1, parent2"
      ]
    },
    {
      "cell_type": "code",
      "execution_count": null,
      "metadata": {
        "id": "Mj0yZ24iNffk"
      },
      "outputs": [],
      "source": [
        "def genetic_algorithm(pop_size=50, generations=1000, el=10, rand=20, rate_cross=0.5, rate_mut=0.5):\n",
        "\n",
        "    pop_size = int(pop_size)\n",
        "    generations = int(generations)\n",
        "    el = int(el)\n",
        "    rand = int(rand)\n",
        "\n",
        "    if pop_size < el or pop_size < rand:\n",
        "        print(\"O tamanho da população deve ser maior que o número do elitismo (el) e do numero de escolha dos pais (rand)!\")\n",
        "        return [], 0\n",
        "\n",
        "\n",
        "    population = [np.random.uniform(1, 10000, 4) for _ in range(pop_size)] #criando a população\n",
        "\n",
        "    best_costs = []\n",
        "    mean_costs = []\n",
        "\n",
        "    for _ in range(generations):\n",
        "        population = sorted(population, key=fitness)\n",
        "        new_population = population[:el] # escolhendo os melhores individuos para fazer substituição\n",
        "\n",
        "        while len(new_population) < pop_size:\n",
        "            parent1, parent2 = random.sample(population[:rand], 2) # escolhendo os individuos da população\n",
        "            child1, child2 = arithmetic_crossover(parent1, parent2, random.random(), rate_cross)\n",
        "            new_population.append(mutate(child1, rate_mut))\n",
        "            new_population.append(mutate(child2, rate_mut))\n",
        "\n",
        "        population = new_population #substituição\n",
        "        best_costs.append(fitness(sorted(population, key=fitness)[0]))\n",
        "\n",
        "        mean_cost = 0\n",
        "        for individual in population:\n",
        "          mean_cost += fitness(individual)\n",
        "\n",
        "        mean_costs.append(mean_cost/pop_size)\n",
        "\n",
        "    plot_graph(best_costs, mean_costs, range(1, generations + 1))\n",
        "\n",
        "    best_solution = sorted(population, key=fitness)[0]\n",
        "    return best_solution, fitness(best_solution)"
      ]
    },
    {
      "cell_type": "code",
      "execution_count": null,
      "metadata": {
        "id": "w7EjVgLFNea6",
        "colab": {
          "base_uri": "https://localhost:8080/",
          "height": 807
        },
        "outputId": "a88f7121-84ca-48e3-ccac-e3be9037da38"
      },
      "outputs": [
        {
          "output_type": "display_data",
          "data": {
            "text/plain": [
              "<Figure size 1200x800 with 2 Axes>"
            ],
            "image/png": "[encoded data removed]"
          },
          "metadata": {}
        }
      ],
      "source": [
        "best_sol, best_cost = genetic_algorithm(pop_size=50, generations=10000, el=5, rand=10, rate_cross=0.85, rate_mut=0.1)"
      ]
    },
    {
      "cell_type": "code",
      "source": [
        "print(f\"Melhor solução encontrada aproximadamente:\\n\")\n",
        "print(f\"solA - {int(best_sol[0])}\\nsolB - {int(best_sol[1])}\\nSEC - {int(best_sol[2])}\\nCOR - {int(best_sol[3])}\\n\")\n",
        "print(f\"Custo mínimo: {best_cost:.2f}\")\n",
        "\n",
        "sum_litros, total_sec, total_cor = create_ink(best_sol)\n",
        "print(f\"\\nTotal de litros: {int(sum_litros)}\\nTotal de litros - SEC: {int(total_sec)}\\nTotal de litros - COR: {int(total_cor)}\")"
      ],
      "metadata": {
        "id": "Pxu7Kod6zzuq",
        "colab": {
          "base_uri": "https://localhost:8080/"
        },
        "outputId": "32bfdf6a-7d04-42e8-e4f2-865cef1c909b"
      },
      "execution_count": null,
      "outputs": [
        {
          "output_type": "stream",
          "name": "stdout",
          "text": [
            "Melhor solução encontrada aproximadamente:\n",
            "\n",
            "solA - 415\n",
            "solB - 834\n",
            "SEC - 0\n",
            "COR - 0\n",
            "\n",
            "Custo mínimo: 1458.55\n",
            "\n",
            "Total de litros: 1250\n",
            "Total de litros - SEC: 625\n",
            "Total de litros - COR: 625\n"
          ]
        }
      ]
    }
  ],
  "metadata": {
    "colab": {
      "provenance": []
    },
    "kernelspec": {
      "display_name": "Python 3",
      "name": "python3"
    },
    "language_info": {
      "name": "python"
    }
  },
  "nbformat": 4,
  "nbformat_minor": 0
}