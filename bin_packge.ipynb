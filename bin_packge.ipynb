{
 "cells": [
  {
   "cell_type": "code",
   "execution_count": 101,
   "id": "eefcb874-3935-4644-99c0-a1a8d413a55e",
   "metadata": {},
   "outputs": [],
   "source": [
    "import random"
   ]
  },
  {
   "cell_type": "code",
   "execution_count": 102,
   "id": "bf424d9c-c79a-4843-82de-92ae400dbae4",
   "metadata": {},
   "outputs": [],
   "source": [
    "def create_input(n):\n",
    "    inp = {}\n",
    "\n",
    "    for i in range (1, n + 1):\n",
    "        key = \"item \" + str(i)\n",
    "        inp[key] = random.randint(1, 10)\n",
    "\n",
    "    return inp"
   ]
  },
  {
   "cell_type": "code",
   "execution_count": 103,
   "id": "9286ba96-626e-4448-8bcf-031455b0e5d2",
   "metadata": {},
   "outputs": [
    {
     "name": "stdout",
     "output_type": "stream",
     "text": [
      "{'item 1': 2, 'item 2': 10, 'item 3': 2, 'item 4': 4, 'item 5': 8, 'item 6': 8, 'item 7': 1, 'item 8': 5, 'item 9': 10, 'item 10': 1}\n"
     ]
    }
   ],
   "source": [
    "inp = create_input(10)\n",
    "print(inp)"
   ]
  },
  {
   "cell_type": "code",
   "execution_count": 104,
   "id": "c72891b5-eec2-453f-b256-e936df01b027",
   "metadata": {},
   "outputs": [],
   "source": [
    "#conjunto de lista de items\n",
    "cromossomo = {}\n",
    "w = 10"
   ]
  },
  {
   "cell_type": "code",
   "execution_count": 105,
   "id": "f62655a0-a721-4685-b6e2-d5dcd6956154",
   "metadata": {},
   "outputs": [],
   "source": [
    "def print_cromossomo(c):\n",
    "    for key, value in c.items():\n",
    "        print(f\"Bin {key + 1}: cap({value[0]}) - {value[1]}\")"
   ]
  },
  {
   "cell_type": "code",
   "execution_count": 106,
   "id": "d3e0d254-ef52-488a-a74f-0ade32d62e1f",
   "metadata": {},
   "outputs": [],
   "source": [
    "def gen_cromossomo(_input, cromossomo):\n",
    "\n",
    "    while len(_input) != 0:\n",
    "\n",
    "        count = 0\n",
    "        bin_package = [] \n",
    "        \n",
    "        while (len(_input) != 0 and count < w):\n",
    "\n",
    "            \n",
    "            keys = list(_input.keys())\n",
    "            \n",
    "            #item = random.choice(inp)\n",
    "            item = keys[0]\n",
    "            \n",
    "            if len(keys) != 1:\n",
    "                item = random.choice(keys)\n",
    "\n",
    "            cap = count + _input[item]\n",
    "            \n",
    "            #print(item)\n",
    "\n",
    "            if cap <= w:\n",
    "                count += _input[item]\n",
    "                value = _input.pop(item)\n",
    "                bin_package.append(item)\n",
    "            else:\n",
    "                break\n",
    "                \n",
    "        cromossomo[len(cromossomo)] = (count, bin_package)\n",
    "    \n",
    "    return cromossomo"
   ]
  },
  {
   "cell_type": "code",
   "execution_count": 159,
   "id": "37263923-aa5b-4fb1-b667-34f9bad01204",
   "metadata": {},
   "outputs": [],
   "source": [
    "c1 = gen_cromossomo(inp.copy(), {})\n",
    "c2 = gen_cromossomo(inp.copy(), {})"
   ]
  },
  {
   "cell_type": "code",
   "execution_count": 160,
   "id": "c0239ccb-d447-4ce2-9069-236b832020a2",
   "metadata": {},
   "outputs": [
    {
     "name": "stdout",
     "output_type": "stream",
     "text": [
      "Bin 1: cap(2) - ['item 3']\n",
      "Bin 2: cap(9) - ['item 8', 'item 4']\n",
      "Bin 3: cap(8) - ['item 6']\n",
      "Bin 4: cap(10) - ['item 2']\n",
      "Bin 5: cap(10) - ['item 1', 'item 5']\n",
      "Bin 6: cap(10) - ['item 9']\n",
      "Bin 7: cap(2) - ['item 10', 'item 7']\n"
     ]
    }
   ],
   "source": [
    "print_cromossomo(c1)"
   ]
  },
  {
   "cell_type": "code",
   "execution_count": 161,
   "id": "70ee70fa-9bf8-4cfc-854c-aeff19018356",
   "metadata": {},
   "outputs": [
    {
     "name": "stdout",
     "output_type": "stream",
     "text": [
      "Bin 1: cap(4) - ['item 4']\n",
      "Bin 2: cap(1) - ['item 7']\n",
      "Bin 3: cap(10) - ['item 3', 'item 6']\n",
      "Bin 4: cap(10) - ['item 5', 'item 1']\n",
      "Bin 5: cap(6) - ['item 8', 'item 10']\n",
      "Bin 6: cap(10) - ['item 9']\n",
      "Bin 7: cap(10) - ['item 2']\n"
     ]
    }
   ],
   "source": [
    "print_cromossomo(c2)"
   ]
  },
  {
   "cell_type": "code",
   "execution_count": 139,
   "id": "2ce82020-1e4e-4d58-8f6b-1b17ca7a12c9",
   "metadata": {},
   "outputs": [],
   "source": [
    "def get_items_list_bool():\n",
    "    \n",
    "    items = {}\n",
    "\n",
    "    for key in list(inp.keys()):\n",
    "        items[key] = False\n",
    "\n",
    "    return items"
   ]
  },
  {
   "cell_type": "code",
   "execution_count": 145,
   "id": "1dd9f0f0-0b4b-4c8c-811e-b3244ebe8d74",
   "metadata": {},
   "outputs": [],
   "source": [
    "def check_cromossomo(c):\n",
    "    \n",
    "    for key, value in c.items():\n",
    "        if value[0] > w:\n",
    "            return True\n",
    "\n",
    "    bool_items = get_items_list_bool()\n",
    "\n",
    "    for key, value in c.items():\n",
    "        for v in value[1]:\n",
    "            if bool_items[v]:\n",
    "                return True\n",
    "            \n",
    "            bool_items[v] = True\n",
    "        \n",
    "    return False"
   ]
  },
  {
   "cell_type": "code",
   "execution_count": 146,
   "id": "1b547f58-0115-4bce-917e-76b01eb3c05d",
   "metadata": {},
   "outputs": [],
   "source": [
    "def fitness(c):\n",
    "    if len(c) == 0 or check_cromossomo(c):\n",
    "        return 9999 #monstro\n",
    "    else:\n",
    "        return len(c)"
   ]
  },
  {
   "cell_type": "code",
   "execution_count": 147,
   "id": "3dcf8427-e685-42f7-a2fe-d6250405a6af",
   "metadata": {},
   "outputs": [
    {
     "name": "stdout",
     "output_type": "stream",
     "text": [
      "7\n"
     ]
    }
   ],
   "source": [
    "print(fitness(c2))"
   ]
  },
  {
   "cell_type": "code",
   "execution_count": 148,
   "id": "e9c14f80-d3e5-43a3-81e1-5260a4beff54",
   "metadata": {},
   "outputs": [
    {
     "name": "stdout",
     "output_type": "stream",
     "text": [
      "{'item 1': 2, 'item 2': 10, 'item 3': 2, 'item 4': 4, 'item 5': 8, 'item 6': 8, 'item 7': 1, 'item 8': 5, 'item 9': 10, 'item 10': 1}\n"
     ]
    }
   ],
   "source": [
    "print(inp)"
   ]
  },
  {
   "cell_type": "code",
   "execution_count": 149,
   "id": "a9cf699f-f9c1-4587-8620-4ab807464261",
   "metadata": {},
   "outputs": [
    {
     "name": "stdout",
     "output_type": "stream",
     "text": [
      "{'item 1': False, 'item 2': False, 'item 3': False, 'item 4': False, 'item 5': False, 'item 6': False, 'item 7': False, 'item 8': False, 'item 9': False, 'item 10': False}\n"
     ]
    }
   ],
   "source": [
    "print(get_items_list_bool())"
   ]
  },
  {
   "cell_type": "code",
   "execution_count": 150,
   "id": "97202f5b-c304-4787-9916-4ab5b9889c44",
   "metadata": {},
   "outputs": [],
   "source": [
    "def cross(c1, c2):\n",
    "\n",
    "    aux1 = c1.copy()\n",
    "    aux2 = c2.copy()\n",
    "\n",
    "    child1 = {}\n",
    "    child2 = {}\n",
    "\n",
    "    \n",
    "    while len(aux1) != 0 or len(aux2) != 0:\n",
    "\n",
    "        if len\n",
    "        \n",
    "        key1 = random.choice(list(aux1.keys()))\n",
    "        key2 = random.choice(list(aux2.keys()))\n",
    "\n",
    "        value1 = (0, [])\n",
    "        value2 = (0, [])\n",
    "        \n",
    "        if value1:\n",
    "            value1 = aux1.pop(key1)\n",
    "        \n",
    "        if value2:\n",
    "            value2 = aux2.pop(key2)\n",
    "        \n",
    "        items = value1[1] + value2[1]\n",
    "\n",
    "        k = 0\n",
    "        while (len(items) != 0):\n",
    "            \n",
    "            count = 0\n",
    "            new_bin = []\n",
    "            \n",
    "            while (len(items) != 0 and count < w):\n",
    "                item = random.choice(items)\n",
    "\n",
    "                cap = count + inp[item]\n",
    "\n",
    "                if cap <= w:\n",
    "                    new_bin.append(item)\n",
    "                    count += inp[item]\n",
    "                    items.remove(item)\n",
    "                else:\n",
    "                    break\n",
    "\n",
    "            if k % 2 == 0:\n",
    "                child1[len(child1)] = (count, new_bin)\n",
    "            else:\n",
    "                child2[len(child2)] = (count, new_bin)\n",
    "\n",
    "    return child1, child2"
   ]
  },
  {
   "cell_type": "code",
   "execution_count": 164,
   "id": "1a0aea6e-5b96-4c7f-a081-e9b52b33ae02",
   "metadata": {},
   "outputs": [
    {
     "name": "stdout",
     "output_type": "stream",
     "text": [
      "[4, 21, 32, 10, 1, 55]\n"
     ]
    }
   ],
   "source": [
    "print(random.sample([10, 21, 32, 1, 4, 55], 6))"
   ]
  },
  {
   "cell_type": "code",
   "execution_count": 151,
   "id": "63db3daf-6d8c-419c-8028-2ed49fc2291b",
   "metadata": {},
   "outputs": [],
   "source": [
    "def get_index_item_into_bin(c, item):\n",
    "    \n",
    "    for key, value in c.items():\n",
    "        \n",
    "        for v in value[1]:\n",
    "            if (v == item):\n",
    "                return key\n",
    "\n",
    "    return -1"
   ]
  },
  {
   "cell_type": "code",
   "execution_count": 152,
   "id": "ec2d0f15-efd5-4e0d-a908-9cdb4b692ccd",
   "metadata": {},
   "outputs": [],
   "source": [
    "def mut(c):\n",
    "\n",
    "    keys = list(inp.keys())\n",
    "\n",
    "    mod_item = random.choice(keys)\n",
    "    \n",
    "    index = get_index_item_into_bin(c, mod_item)\n",
    "    \n",
    "    #print(c[id1][0])\n",
    "    #print(mod_item1)\n",
    "\n",
    "    c[index][1].remove(mod_item)\n",
    "\n",
    "    if (index + 1 != len(c)):\n",
    "            value = c[index]\n",
    "            c[index] = c[len(c) - 1]\n",
    "            c[len(c) - 1] = value\n",
    "            index = len(c) - 1\n",
    "    \n",
    "    if (len(c[index][1]) == 0):\n",
    "        c.pop(index)\n",
    "    else:\n",
    "        c[index] = (c[index][0] - inp[mod_item], c[index][1])\n",
    "        \n",
    "    add_bin = random.choice(list(c.keys()))\n",
    "\n",
    "    while add_bin == index:\n",
    "        add_bin = random.choice(list(c.keys()))\n",
    "\n",
    "    print(f\"Adicionar o {mod_item} - cap {inp[mod_item]} - no bin {add_bin + 1}\")\n",
    "    \n",
    "    count = c[add_bin][0] + inp[mod_item]\n",
    "    c[add_bin][1].append(mod_item)\n",
    "\n",
    "    c[add_bin] = (count, c[add_bin][1])\n",
    "    \n",
    "    return c"
   ]
  },
  {
   "cell_type": "code",
   "execution_count": 154,
   "id": "c70b1489-3a61-4163-8db9-7690f4b423bc",
   "metadata": {},
   "outputs": [
    {
     "name": "stdout",
     "output_type": "stream",
     "text": [
      "Bin 1: cap(1) - ['item 10']\n",
      "Bin 2: cap(5) - ['item 8']\n",
      "Bin 3: cap(10) - ['item 2']\n",
      "Bin 4: cap(8) - ['item 6']\n",
      "Bin 5: cap(8) - ['item 5']\n",
      "Bin 6: cap(2) - ['item 3']\n",
      "Bin 7: cap(10) - ['item 9']\n",
      "Bin 8: cap(7) - ['item 4', 'item 7', 'item 1']\n"
     ]
    }
   ],
   "source": [
    "print_cromossomo(c1)"
   ]
  },
  {
   "cell_type": "code",
   "execution_count": 155,
   "id": "d77518cb-ce89-426d-9ad2-9724f8a08745",
   "metadata": {},
   "outputs": [
    {
     "name": "stdout",
     "output_type": "stream",
     "text": [
      "Adicionar o item 7 - cap 1 - no bin 4\n"
     ]
    }
   ],
   "source": [
    "c1 = mut(c1)"
   ]
  },
  {
   "cell_type": "code",
   "execution_count": 156,
   "id": "f4aeae0e-486b-464a-a651-ef1973c94ab3",
   "metadata": {},
   "outputs": [
    {
     "name": "stdout",
     "output_type": "stream",
     "text": [
      "Bin 1: cap(1) - ['item 10']\n",
      "Bin 2: cap(5) - ['item 8']\n",
      "Bin 3: cap(10) - ['item 2']\n",
      "Bin 4: cap(8) - ['item 6']\n",
      "Bin 5: cap(9) - ['item 5', 'item 7']\n",
      "Bin 6: cap(2) - ['item 3']\n",
      "Bin 7: cap(10) - ['item 9']\n",
      "Bin 8: cap(6) - ['item 4', 'item 1']\n"
     ]
    }
   ],
   "source": [
    "print_cromossomo(c1)"
   ]
  },
  {
   "cell_type": "code",
   "execution_count": 157,
   "id": "24eb253b-3400-4825-b146-8b19b3915a10",
   "metadata": {},
   "outputs": [
    {
     "name": "stdout",
     "output_type": "stream",
     "text": [
      "False\n"
     ]
    }
   ],
   "source": [
    "print(check_cromossomo(c1))"
   ]
  },
  {
   "cell_type": "code",
   "execution_count": 158,
   "id": "296bb388-73bc-44a5-bffa-b4d89a8a46a0",
   "metadata": {},
   "outputs": [
    {
     "ename": "IndexError",
     "evalue": "list index out of range",
     "output_type": "error",
     "traceback": [
      "\u001b[0;31m---------------------------------------------------------------------------\u001b[0m",
      "\u001b[0;31mIndexError\u001b[0m                                Traceback (most recent call last)",
      "Cell \u001b[0;32mIn[158], line 1\u001b[0m\n\u001b[0;32m----> 1\u001b[0m child1, child2 \u001b[38;5;241m=\u001b[39m \u001b[43mcross\u001b[49m\u001b[43m(\u001b[49m\u001b[43mc1\u001b[49m\u001b[43m,\u001b[49m\u001b[43m \u001b[49m\u001b[43mc2\u001b[49m\u001b[43m)\u001b[49m\n",
      "Cell \u001b[0;32mIn[150], line 13\u001b[0m, in \u001b[0;36mcross\u001b[0;34m(c1, c2)\u001b[0m\n\u001b[1;32m     10\u001b[0m \u001b[38;5;28;01mwhile\u001b[39;00m \u001b[38;5;28mlen\u001b[39m(aux1) \u001b[38;5;241m!=\u001b[39m \u001b[38;5;241m0\u001b[39m \u001b[38;5;129;01mor\u001b[39;00m \u001b[38;5;28mlen\u001b[39m(aux2) \u001b[38;5;241m!=\u001b[39m \u001b[38;5;241m0\u001b[39m:\n\u001b[1;32m     12\u001b[0m     key1 \u001b[38;5;241m=\u001b[39m random\u001b[38;5;241m.\u001b[39mchoice(\u001b[38;5;28mlist\u001b[39m(aux1\u001b[38;5;241m.\u001b[39mkeys()))\n\u001b[0;32m---> 13\u001b[0m     key2 \u001b[38;5;241m=\u001b[39m \u001b[43mrandom\u001b[49m\u001b[38;5;241;43m.\u001b[39;49m\u001b[43mchoice\u001b[49m\u001b[43m(\u001b[49m\u001b[38;5;28;43mlist\u001b[39;49m\u001b[43m(\u001b[49m\u001b[43maux2\u001b[49m\u001b[38;5;241;43m.\u001b[39;49m\u001b[43mkeys\u001b[49m\u001b[43m(\u001b[49m\u001b[43m)\u001b[49m\u001b[43m)\u001b[49m\u001b[43m)\u001b[49m\n\u001b[1;32m     15\u001b[0m     value1 \u001b[38;5;241m=\u001b[39m (\u001b[38;5;241m0\u001b[39m, [])\n\u001b[1;32m     16\u001b[0m     value2 \u001b[38;5;241m=\u001b[39m (\u001b[38;5;241m0\u001b[39m, [])\n",
      "File \u001b[0;32m/usr/lib/python3.10/random.py:378\u001b[0m, in \u001b[0;36mRandom.choice\u001b[0;34m(self, seq)\u001b[0m\n\u001b[1;32m    376\u001b[0m \u001b[38;5;250m\u001b[39m\u001b[38;5;124;03m\"\"\"Choose a random element from a non-empty sequence.\"\"\"\u001b[39;00m\n\u001b[1;32m    377\u001b[0m \u001b[38;5;66;03m# raises IndexError if seq is empty\u001b[39;00m\n\u001b[0;32m--> 378\u001b[0m \u001b[38;5;28;01mreturn\u001b[39;00m \u001b[43mseq\u001b[49m\u001b[43m[\u001b[49m\u001b[38;5;28;43mself\u001b[39;49m\u001b[38;5;241;43m.\u001b[39;49m\u001b[43m_randbelow\u001b[49m\u001b[43m(\u001b[49m\u001b[38;5;28;43mlen\u001b[39;49m\u001b[43m(\u001b[49m\u001b[43mseq\u001b[49m\u001b[43m)\u001b[49m\u001b[43m)\u001b[49m\u001b[43m]\u001b[49m\n",
      "\u001b[0;31mIndexError\u001b[0m: list index out of range"
     ]
    }
   ],
   "source": [
    "child1, child2 = cross(c1, c2)"
   ]
  },
  {
   "cell_type": "code",
   "execution_count": null,
   "id": "abbc6a13-721f-466c-8a30-dea2fc1c1877",
   "metadata": {},
   "outputs": [],
   "source": []
  }
 ],
 "metadata": {
  "kernelspec": {
   "display_name": "Python 3 (ipykernel)",
   "language": "python",
   "name": "python3"
  },
  "language_info": {
   "codemirror_mode": {
    "name": "ipython",
    "version": 3
   },
   "file_extension": ".py",
   "mimetype": "text/x-python",
   "name": "python",
   "nbconvert_exporter": "python",
   "pygments_lexer": "ipython3",
   "version": "3.10.12"
  }
 },
 "nbformat": 4,
 "nbformat_minor": 5
}
